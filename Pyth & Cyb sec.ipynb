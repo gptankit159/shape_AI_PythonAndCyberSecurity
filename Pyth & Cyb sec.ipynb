{
 "cells": [
  {
   "cell_type": "code",
   "execution_count": 4,
   "metadata": {},
   "outputs": [
    {
     "name": "stdout",
     "output_type": "stream",
     "text": [
      "Enter the city name: Nagpur\n",
      "{\"coord\":{\"lon\":79.1,\"lat\":21.15},\"weather\":[{\"id\":804,\"main\":\"Clouds\",\"description\":\"overcast clouds\",\"icon\":\"04d\"}],\"base\":\"stations\",\"main\":{\"temp\":299.16,\"feels_like\":299.16,\"temp_min\":299.16,\"temp_max\":299.16,\"pressure\":1007,\"humidity\":89},\"visibility\":2000,\"wind\":{\"speed\":3.09,\"deg\":260},\"clouds\":{\"all\":90},\"dt\":1624428578,\"sys\":{\"type\":1,\"id\":9069,\"country\":\"IN\",\"sunrise\":1624406591,\"sunset\":1624454897},\"timezone\":19800,\"id\":1262180,\"name\":\"Nagpur\",\"cod\":200}\n",
      "-------------------------------------------------------------\n",
      "Weather Stats for - NAGPUR  || 23 Jun 2021 | 11:43:06 AM\n",
      "-------------------------------------------------------------\n",
      "Current temperature is: 26.01 deg C\n",
      "Current weather desc  : overcast clouds\n",
      "Current Humidity      : 89 %\n",
      "Current wind speed    : 3.09 kmph\n"
     ]
    }
   ],
   "source": [
    "import requests\n",
    "import os\n",
    "from datetime import datetime\n",
    "\n",
    "api_key = 'b771d0bedb80e4f8978de4c50c2cfae4'\n",
    "location = input(\"Enter the city name: \")\n",
    "\n",
    "complete_api_link = \"https://api.openweathermap.org/data/2.5/weather?q=\"+location+\"&appid=\"+api_key\n",
    "api_link = requests.get(complete_api_link)\n",
    "print(api_link.text)\n",
    "api_data = api_link.json()\n",
    "\n",
    "#create variables to store and display data\n",
    "temp_city = ((api_data['main']['temp']) - 273.15)\n",
    "weather_desc = api_data['weather'][0]['description']\n",
    "hmdt = api_data['main']['humidity']\n",
    "wind_spd = api_data['wind']['speed']\n",
    "date_time = datetime.now().strftime(\"%d %b %Y | %I:%M:%S %p\")\n",
    "\n",
    "print (\"-------------------------------------------------------------\")\n",
    "print (\"Weather Stats for - {}  || {}\".format(location.upper(), date_time))\n",
    "print (\"-------------------------------------------------------------\")\n",
    "\n",
    "print (\"Current temperature is: {:.2f} deg C\".format(temp_city))\n",
    "print (\"Current weather desc  :\",weather_desc)\n",
    "print (\"Current Humidity      :\",hmdt, '%')\n",
    "print (\"Current wind speed    :\",wind_spd ,'kmph')"
   ]
  },
  {
   "cell_type": "markdown",
   "metadata": {},
   "source": [
    "Saving output in a file"
   ]
  },
  {
   "cell_type": "code",
   "execution_count": 5,
   "metadata": {},
   "outputs": [],
   "source": [
    "str1=\"-------------------------------------------------------------\\n\"\n",
    "str2=\"Weather Stats for - {}  || {}\\n\".format(location.upper(), date_time)\n",
    "str3=\"Current temperature is: {:.2f} deg C\\n\".format(temp_city)\n",
    "str4=\"Current weather desc  :{} \\n\".format(weather_desc)\n",
    "str5=\"Current Humidity      :{} % \\n\".format(hmdt)\n",
    "str6=\"Current wind speed    :{} kmph \\n\".format(wind_spd)\n",
    "Lines=[str1,str2,str1,str3,str4,str5,str6]\n",
    "fhand = open(\"WeatherData.txt\", \"w\")\n",
    "fhand.writelines(Lines)\n",
    "fhand.close()"
   ]
  },
  {
   "cell_type": "code",
   "execution_count": null,
   "metadata": {},
   "outputs": [],
   "source": []
  },
  {
   "cell_type": "code",
   "execution_count": null,
   "metadata": {},
   "outputs": [],
   "source": []
  }
 ],
 "metadata": {
  "kernelspec": {
   "display_name": "Python 3",
   "language": "python",
   "name": "python3"
  },
  "language_info": {
   "codemirror_mode": {
    "name": "ipython",
    "version": 3
   },
   "file_extension": ".py",
   "mimetype": "text/x-python",
   "name": "python",
   "nbconvert_exporter": "python",
   "pygments_lexer": "ipython3",
   "version": "3.8.3"
  }
 },
 "nbformat": 4,
 "nbformat_minor": 4
}
